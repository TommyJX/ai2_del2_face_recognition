{
 "cells": [
  {
   "cell_type": "code",
   "execution_count": null,
   "metadata": {},
   "outputs": [],
   "source": [
    "import pandas as pd\n",
    "import numpy as np\n",
    "import os\n",
    "import matplotlib.pyplot as plt\n",
    "import seaborn as sns\n",
    "\n",
    "from tqdm import tqdm\n",
    "from PIL import Image\n",
    "\n",
    "import tensorflow as tf\n",
    "from tensorflow.keras.preprocessing.image import load_img\n",
    "from tensorflow.keras.models import Model\n",
    "from tensorflow.keras.layers import Dense, Conv2D, Dropout, Flatten, MaxPooling2D, Input, BatchNormalization\n",
    "from tensorflow.keras.callbacks import EarlyStopping, ReduceLROnPlateau, ModelCheckpoint\n",
    "from tensorflow.keras.optimizers import Adam\n",
    "from tensorflow.keras.metrics import Precision, Recall\n",
    "from tensorflow.keras.regularizers import l2"
   ]
  },
  {
   "cell_type": "markdown",
   "metadata": {},
   "source": [
    "### Load the Dataset"
   ]
  },
  {
   "cell_type": "code",
   "execution_count": null,
   "metadata": {},
   "outputs": [],
   "source": [
    "BASE_DIR = '../dataset/age-gender-recog-dataset'"
   ]
  },
  {
   "cell_type": "code",
   "execution_count": null,
   "metadata": {},
   "outputs": [],
   "source": [
    "image_paths = []\n",
    "gender_labels = []\n",
    "\n",
    "for filename in tqdm(os.listdir(BASE_DIR)):\n",
    "    image_path = os.path.join(BASE_DIR, filename)\n",
    "    temp = filename.split('_')\n",
    "    gender = int(temp[1])\n",
    "    image_paths.append(image_path)\n",
    "    gender_labels.append(gender)"
   ]
  },
  {
   "cell_type": "code",
   "execution_count": null,
   "metadata": {},
   "outputs": [],
   "source": [
    "# Convert to dataframe\n",
    "df = pd.DataFrame({\n",
    "    'image': image_paths,\n",
    "    'gender': gender_labels\n",
    "})\n",
    "\n",
    "# Shuffle the dataframe\n",
    "df = df.sample(frac=1).reset_index(drop=True)"
   ]
  },
  {
   "cell_type": "code",
   "execution_count": null,
   "metadata": {},
   "outputs": [],
   "source": [
    "# map labels for gender\n",
    "gender_dict = {0:'Male', 1:'Female'}"
   ]
  },
  {
   "cell_type": "markdown",
   "metadata": {},
   "source": [
    "### Exploratory Data Analysis"
   ]
  },
  {
   "cell_type": "code",
   "execution_count": null,
   "metadata": {},
   "outputs": [],
   "source": [
    "# Plot the gender distribution\n",
    "sns.countplot(x='gender', data=df, hue='gender', palette=['#1f77b4', '#ff7f0e'])\n",
    "plt.title(\"Gender Distribution\")\n",
    "plt.show()"
   ]
  },
  {
   "cell_type": "code",
   "execution_count": null,
   "metadata": {},
   "outputs": [],
   "source": [
    "# Display a grid of images with labels\n",
    "plt.figure(figsize=(20, 20))\n",
    "files = df.iloc[0:25]\n",
    "\n",
    "# Use plain tuples to access rows\n",
    "for index, row in enumerate(files.itertuples(index=False, name=None), 1):\n",
    "    plt.subplot(5, 5, index)\n",
    "    \n",
    "    file = row[0]\n",
    "    gender = row[1]\n",
    "    \n",
    "    img = load_img(file)\n",
    "    img = np.array(img)\n",
    "    plt.imshow(img)\n",
    "    plt.title(f\"Gender: {gender_dict[gender]}\")\n",
    "    plt.axis('off')\n",
    "\n",
    "plt.show()"
   ]
  },
  {
   "cell_type": "markdown",
   "metadata": {},
   "source": [
    "### Feature Extraction"
   ]
  },
  {
   "cell_type": "code",
   "execution_count": null,
   "metadata": {},
   "outputs": [],
   "source": [
    "def extract_features(images):\n",
    "    features = []\n",
    "    for image in tqdm(images):\n",
    "        img = load_img(image, color_mode='grayscale')\n",
    "        img = img.resize((128, 128), Image.Resampling.LANCZOS)\n",
    "        img = np.array(img)\n",
    "        features.append(img)\n",
    "\n",
    "    features = np.array(features)\n",
    "    features = features.reshape(len(features), 128, 128, 1)\n",
    "    return features"
   ]
  },
  {
   "cell_type": "code",
   "execution_count": null,
   "metadata": {},
   "outputs": [],
   "source": [
    "X = extract_features(df['image'])\n",
    "X = X / 255.0\n",
    "y_gender = np.array(df['gender'])"
   ]
  },
  {
   "cell_type": "code",
   "execution_count": null,
   "metadata": {},
   "outputs": [],
   "source": [
    "X.shape"
   ]
  },
  {
   "cell_type": "markdown",
   "metadata": {},
   "source": [
    "### Model Creation"
   ]
  },
  {
   "cell_type": "code",
   "execution_count": null,
   "metadata": {},
   "outputs": [],
   "source": [
    "input_shape = (128, 128, 1)\n",
    "inputs = Input((input_shape))\n",
    "\n",
    "# Define the convolutional layers for gender prediction\n",
    "conv_1 = Conv2D(32, kernel_size=(3, 3), activation='relu')(inputs)\n",
    "batchnorm_1 = BatchNormalization()(conv_1)\n",
    "maxp_1 = MaxPooling2D(pool_size=(2, 2))(batchnorm_1)\n",
    "dropout_conv_1 = Dropout(0.4)(maxp_1)\n",
    "\n",
    "conv_2 = Conv2D(64, kernel_size=(3, 3), activation='relu')(dropout_conv_1)\n",
    "batchnorm_2 = BatchNormalization()(conv_2)\n",
    "maxp_2 = MaxPooling2D(pool_size=(2, 2))(batchnorm_2)\n",
    "dropout_conv_2 = Dropout(0.4)(maxp_2)\n",
    "\n",
    "conv_3 = Conv2D(128, kernel_size=(3, 3), activation='relu')(dropout_conv_2)\n",
    "batchnorm_3 = BatchNormalization()(conv_3)\n",
    "maxp_3 = MaxPooling2D(pool_size=(2, 2))(batchnorm_3)\n",
    "dropout_conv_3 = Dropout(0.4)(maxp_3)\n",
    "\n",
    "conv_4 = Conv2D(256, kernel_size=(3, 3), activation='relu')(dropout_conv_3)\n",
    "batchnorm_4 = BatchNormalization()(conv_4)\n",
    "maxp_4 = MaxPooling2D(pool_size=(2, 2))(batchnorm_4)\n",
    "dropout_conv_4 = Dropout(0.4)(maxp_4)\n",
    "\n",
    "flatten = Flatten()(dropout_conv_4)\n",
    "\n",
    "# Fully connected layers with L2 regularization\n",
    "dense_1 = Dense(256, activation='relu', kernel_regularizer=l2(0.02))(flatten)\n",
    "dropout_1 = Dropout(0.3)(dense_1)\n",
    "output_1 = Dense(1, activation='sigmoid')(dropout_1)\n",
    "\n",
    "model = Model(inputs=[inputs], outputs=[output_1])\n",
    "\n",
    "model.compile(\n",
    "    loss='binary_crossentropy',\n",
    "    optimizer=Adam(learning_rate=0.00005),\n",
    "    metrics=['accuracy', Precision(), Recall()]\n",
    ")\n",
    "\n",
    "callbacks = [\n",
    "    EarlyStopping(monitor='val_loss', patience=8, restore_best_weights=True),\n",
    "    ReduceLROnPlateau(monitor='val_loss', factor=0.2, patience=5, min_lr=1e-7),\n",
    "    ModelCheckpoint('../models/best_gender_model.keras', monitor='val_loss', save_best_only=True)\n",
    "]"
   ]
  },
  {
   "cell_type": "code",
   "execution_count": null,
   "metadata": {},
   "outputs": [],
   "source": [
    "history = model.fit(\n",
    "    x=X, \n",
    "    y=y_gender,\n",
    "    batch_size=32, \n",
    "    epochs=100, \n",
    "    validation_split=0.2,\n",
    "    callbacks=callbacks\n",
    ")"
   ]
  },
  {
   "cell_type": "markdown",
   "metadata": {},
   "source": [
    "### Plot the results"
   ]
  },
  {
   "cell_type": "code",
   "execution_count": null,
   "metadata": {},
   "outputs": [],
   "source": [
    "# Extract accuracy and loss for the gender output\n",
    "acc = history.history['gender_out_accuracy']\n",
    "val_acc = history.history['val_gender_out_accuracy']\n",
    "\n",
    "# Look for the correct keys for loss\n",
    "loss = history.history.get('loss', history.history.get('gender_out_loss'))\n",
    "val_loss = history.history.get('val_loss', history.history.get('val_gender_out_loss'))\n",
    "\n",
    "epochs = range(len(acc))\n",
    "\n",
    "# Plot training and validation accuracy\n",
    "plt.plot(epochs, acc, 'r', label='Training accuracy')\n",
    "plt.plot(epochs, val_acc, 'b', label='Validation accuracy')\n",
    "plt.title('Training and validation accuracy for gender prediction')\n",
    "plt.legend()\n",
    "plt.figure()\n",
    "\n",
    "# Plot training and validation loss\n",
    "plt.plot(epochs, loss, 'r', label='Training loss')\n",
    "plt.plot(epochs, val_loss, 'b', label='Validation loss')\n",
    "plt.title('Training and validation loss for gender prediction')\n",
    "plt.legend()\n",
    "plt.figure()"
   ]
  },
  {
   "cell_type": "code",
   "execution_count": null,
   "metadata": {},
   "outputs": [],
   "source": [
    "# Access validation accuracy and loss from the training history\n",
    "val_gender_accuracy = history.history['val_gender_out_accuracy'][-1]\n",
    "\n",
    "print(f\"Validation Accuracy for Gender Prediction: {val_gender_accuracy * 100:.2f}%\")"
   ]
  },
  {
   "cell_type": "markdown",
   "metadata": {},
   "source": [
    "### Prediction with Test Data"
   ]
  },
  {
   "cell_type": "code",
   "execution_count": null,
   "metadata": {},
   "outputs": [],
   "source": [
    "# Gender Prediction Code\n",
    "image_index = 2000\n",
    "print(\"Original Gender: \", gender_dict[y_gender[image_index]])\n",
    "\n",
    "# predict from model\n",
    "pred = model.predict(X[image_index].reshape(1, 128, 128, 1))\n",
    "pred_gender = gender_dict[round(pred[0][0])]\n",
    "\n",
    "print(\"Predicted Gender: \", pred_gender)\n",
    "\n",
    "plt.axis('off')\n",
    "plt.imshow(X[image_index].reshape(128, 128), cmap='gray');\n",
    "plt.show()"
   ]
  },
  {
   "cell_type": "code",
   "execution_count": null,
   "metadata": {},
   "outputs": [],
   "source": []
  }
 ],
 "metadata": {
  "kernelspec": {
   "display_name": "myenv",
   "language": "python",
   "name": "python3"
  },
  "language_info": {
   "codemirror_mode": {
    "name": "ipython",
    "version": 3
   },
   "file_extension": ".py",
   "mimetype": "text/x-python",
   "name": "python",
   "nbconvert_exporter": "python",
   "pygments_lexer": "ipython3",
   "version": "3.11.9"
  }
 },
 "nbformat": 4,
 "nbformat_minor": 2
}
